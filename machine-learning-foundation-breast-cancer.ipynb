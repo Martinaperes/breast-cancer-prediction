{
 "cells": [
  {
   "cell_type": "markdown",
   "id": "b0e7c802",
   "metadata": {
    "papermill": {
     "duration": 0.004355,
     "end_time": "2025-10-24T06:33:03.479471",
     "exception": false,
     "start_time": "2025-10-24T06:33:03.475116",
     "status": "completed"
    },
    "tags": []
   },
   "source": [
    "# Breast Cancer Diagnosis prediction model"
   ]
  },
  {
   "cell_type": "markdown",
   "id": "e8f2e045",
   "metadata": {
    "papermill": {
     "duration": 0.003081,
     "end_time": "2025-10-24T06:33:03.486350",
     "exception": false,
     "start_time": "2025-10-24T06:33:03.483269",
     "status": "completed"
    },
    "tags": []
   },
   "source": [
    "Project Overview\n",
    "This project aims to build a machine learning model that predicts whether a breast tumor is benign (non-cancerous) or malignant (cancerous) based on various diagnostic features derived from breast mass cell nuclei.\n",
    "By using this model, healthcare professionals could potentially assist in early diagnosis and improve patient treatment outcomes."
   ]
  },
  {
   "cell_type": "code",
   "execution_count": 1,
   "id": "f6de0ed8",
   "metadata": {
    "execution": {
     "iopub.execute_input": "2025-10-24T06:33:03.495548Z",
     "iopub.status.busy": "2025-10-24T06:33:03.495098Z",
     "iopub.status.idle": "2025-10-24T06:33:08.354251Z",
     "shell.execute_reply": "2025-10-24T06:33:08.353191Z"
    },
    "papermill": {
     "duration": 4.865853,
     "end_time": "2025-10-24T06:33:08.356070",
     "exception": false,
     "start_time": "2025-10-24T06:33:03.490217",
     "status": "completed"
    },
    "tags": []
   },
   "outputs": [
    {
     "data": {
      "text/plain": [
       "(569, 33)"
      ]
     },
     "execution_count": 1,
     "metadata": {},
     "output_type": "execute_result"
    }
   ],
   "source": [
    "#import the libraries required\n",
    "import pandas as pd\n",
    "import numpy as np\n",
    "import matplotlib.pyplot as plt\n",
    "import seaborn as sns\n",
    "from sklearn.metrics import accuracy_score\n",
    "from sklearn.model_selection import train_test_split\n",
    "from sklearn.preprocessing import StandardScaler, LabelEncoder\n",
    "from sklearn.tree import DecisionTreeClassifier\n",
    "from sklearn.ensemble import RandomForestClassifier\n",
    "#load the dataset\n",
    "df=pd.read_csv(\"/kaggle/input/breast-cancer-wisconsin-data/data.csv\")\n",
    "df.head()\n",
    "df.shape"
   ]
  },
  {
   "cell_type": "code",
   "execution_count": 2,
   "id": "59f33922",
   "metadata": {
    "execution": {
     "iopub.execute_input": "2025-10-24T06:33:08.365385Z",
     "iopub.status.busy": "2025-10-24T06:33:08.365042Z",
     "iopub.status.idle": "2025-10-24T06:33:08.394727Z",
     "shell.execute_reply": "2025-10-24T06:33:08.393446Z"
    },
    "papermill": {
     "duration": 0.03601,
     "end_time": "2025-10-24T06:33:08.396301",
     "exception": false,
     "start_time": "2025-10-24T06:33:08.360291",
     "status": "completed"
    },
    "tags": []
   },
   "outputs": [
    {
     "name": "stdout",
     "output_type": "stream",
     "text": [
      "<class 'pandas.core.frame.DataFrame'>\n",
      "RangeIndex: 569 entries, 0 to 568\n",
      "Data columns (total 33 columns):\n",
      " #   Column                   Non-Null Count  Dtype  \n",
      "---  ------                   --------------  -----  \n",
      " 0   id                       569 non-null    int64  \n",
      " 1   diagnosis                569 non-null    object \n",
      " 2   radius_mean              569 non-null    float64\n",
      " 3   texture_mean             569 non-null    float64\n",
      " 4   perimeter_mean           569 non-null    float64\n",
      " 5   area_mean                569 non-null    float64\n",
      " 6   smoothness_mean          569 non-null    float64\n",
      " 7   compactness_mean         569 non-null    float64\n",
      " 8   concavity_mean           569 non-null    float64\n",
      " 9   concave points_mean      569 non-null    float64\n",
      " 10  symmetry_mean            569 non-null    float64\n",
      " 11  fractal_dimension_mean   569 non-null    float64\n",
      " 12  radius_se                569 non-null    float64\n",
      " 13  texture_se               569 non-null    float64\n",
      " 14  perimeter_se             569 non-null    float64\n",
      " 15  area_se                  569 non-null    float64\n",
      " 16  smoothness_se            569 non-null    float64\n",
      " 17  compactness_se           569 non-null    float64\n",
      " 18  concavity_se             569 non-null    float64\n",
      " 19  concave points_se        569 non-null    float64\n",
      " 20  symmetry_se              569 non-null    float64\n",
      " 21  fractal_dimension_se     569 non-null    float64\n",
      " 22  radius_worst             569 non-null    float64\n",
      " 23  texture_worst            569 non-null    float64\n",
      " 24  perimeter_worst          569 non-null    float64\n",
      " 25  area_worst               569 non-null    float64\n",
      " 26  smoothness_worst         569 non-null    float64\n",
      " 27  compactness_worst        569 non-null    float64\n",
      " 28  concavity_worst          569 non-null    float64\n",
      " 29  concave points_worst     569 non-null    float64\n",
      " 30  symmetry_worst           569 non-null    float64\n",
      " 31  fractal_dimension_worst  569 non-null    float64\n",
      " 32  Unnamed: 32              0 non-null      float64\n",
      "dtypes: float64(31), int64(1), object(1)\n",
      "memory usage: 146.8+ KB\n"
     ]
    }
   ],
   "source": [
    "df.info()"
   ]
  },
  {
   "cell_type": "code",
   "execution_count": 3,
   "id": "506a5505",
   "metadata": {
    "execution": {
     "iopub.execute_input": "2025-10-24T06:33:08.405746Z",
     "iopub.status.busy": "2025-10-24T06:33:08.405360Z",
     "iopub.status.idle": "2025-10-24T06:33:08.416846Z",
     "shell.execute_reply": "2025-10-24T06:33:08.415328Z"
    },
    "papermill": {
     "duration": 0.018617,
     "end_time": "2025-10-24T06:33:08.418856",
     "exception": false,
     "start_time": "2025-10-24T06:33:08.400239",
     "status": "completed"
    },
    "tags": []
   },
   "outputs": [],
   "source": [
    "#cleaning the data \n",
    "df = df.drop(columns=['id', 'Unnamed: 32'], errors='ignore')"
   ]
  },
  {
   "cell_type": "code",
   "execution_count": 4,
   "id": "57be602a",
   "metadata": {
    "execution": {
     "iopub.execute_input": "2025-10-24T06:33:08.428250Z",
     "iopub.status.busy": "2025-10-24T06:33:08.427880Z",
     "iopub.status.idle": "2025-10-24T06:33:08.434766Z",
     "shell.execute_reply": "2025-10-24T06:33:08.433645Z"
    },
    "papermill": {
     "duration": 0.014324,
     "end_time": "2025-10-24T06:33:08.437056",
     "exception": false,
     "start_time": "2025-10-24T06:33:08.422732",
     "status": "completed"
    },
    "tags": []
   },
   "outputs": [],
   "source": [
    "df['diagnosis']=df['diagnosis'].map({'M':1,'B':0})"
   ]
  },
  {
   "cell_type": "code",
   "execution_count": 5,
   "id": "8601686d",
   "metadata": {
    "execution": {
     "iopub.execute_input": "2025-10-24T06:33:08.446764Z",
     "iopub.status.busy": "2025-10-24T06:33:08.446261Z",
     "iopub.status.idle": "2025-10-24T06:33:08.454966Z",
     "shell.execute_reply": "2025-10-24T06:33:08.453979Z"
    },
    "papermill": {
     "duration": 0.015464,
     "end_time": "2025-10-24T06:33:08.456683",
     "exception": false,
     "start_time": "2025-10-24T06:33:08.441219",
     "status": "completed"
    },
    "tags": []
   },
   "outputs": [
    {
     "data": {
      "text/plain": [
       "diagnosis                  0\n",
       "radius_mean                0\n",
       "texture_mean               0\n",
       "perimeter_mean             0\n",
       "area_mean                  0\n",
       "smoothness_mean            0\n",
       "compactness_mean           0\n",
       "concavity_mean             0\n",
       "concave points_mean        0\n",
       "symmetry_mean              0\n",
       "fractal_dimension_mean     0\n",
       "radius_se                  0\n",
       "texture_se                 0\n",
       "perimeter_se               0\n",
       "area_se                    0\n",
       "smoothness_se              0\n",
       "compactness_se             0\n",
       "concavity_se               0\n",
       "concave points_se          0\n",
       "symmetry_se                0\n",
       "fractal_dimension_se       0\n",
       "radius_worst               0\n",
       "texture_worst              0\n",
       "perimeter_worst            0\n",
       "area_worst                 0\n",
       "smoothness_worst           0\n",
       "compactness_worst          0\n",
       "concavity_worst            0\n",
       "concave points_worst       0\n",
       "symmetry_worst             0\n",
       "fractal_dimension_worst    0\n",
       "dtype: int64"
      ]
     },
     "execution_count": 5,
     "metadata": {},
     "output_type": "execute_result"
    }
   ],
   "source": [
    "#checking for any null values\n",
    "df.isnull().sum()"
   ]
  },
  {
   "cell_type": "code",
   "execution_count": 6,
   "id": "d05a66a0",
   "metadata": {
    "execution": {
     "iopub.execute_input": "2025-10-24T06:33:08.467398Z",
     "iopub.status.busy": "2025-10-24T06:33:08.467040Z",
     "iopub.status.idle": "2025-10-24T06:33:08.473853Z",
     "shell.execute_reply": "2025-10-24T06:33:08.472587Z"
    },
    "papermill": {
     "duration": 0.014337,
     "end_time": "2025-10-24T06:33:08.475670",
     "exception": false,
     "start_time": "2025-10-24T06:33:08.461333",
     "status": "completed"
    },
    "tags": []
   },
   "outputs": [],
   "source": [
    "X=df.drop(columns=['diagnosis'])# it specifies that all the other columns are X except diagnosis\n",
    "y=df['diagnosis']\n",
    "\n"
   ]
  },
  {
   "cell_type": "code",
   "execution_count": 7,
   "id": "fb981a6f",
   "metadata": {
    "execution": {
     "iopub.execute_input": "2025-10-24T06:33:08.486415Z",
     "iopub.status.busy": "2025-10-24T06:33:08.485220Z",
     "iopub.status.idle": "2025-10-24T06:33:08.492904Z",
     "shell.execute_reply": "2025-10-24T06:33:08.491777Z"
    },
    "papermill": {
     "duration": 0.015205,
     "end_time": "2025-10-24T06:33:08.495110",
     "exception": false,
     "start_time": "2025-10-24T06:33:08.479905",
     "status": "completed"
    },
    "tags": []
   },
   "outputs": [],
   "source": [
    "X_train,X_test,y_train,y_test=train_test_split(\n",
    "    X,y,test_size=0.2,random_state=42\n",
    ")"
   ]
  },
  {
   "cell_type": "code",
   "execution_count": 8,
   "id": "5ef77e43",
   "metadata": {
    "execution": {
     "iopub.execute_input": "2025-10-24T06:33:08.505008Z",
     "iopub.status.busy": "2025-10-24T06:33:08.504682Z",
     "iopub.status.idle": "2025-10-24T06:33:08.536631Z",
     "shell.execute_reply": "2025-10-24T06:33:08.535413Z"
    },
    "papermill": {
     "duration": 0.038925,
     "end_time": "2025-10-24T06:33:08.538376",
     "exception": false,
     "start_time": "2025-10-24T06:33:08.499451",
     "status": "completed"
    },
    "tags": []
   },
   "outputs": [],
   "source": [
    "#make the meausurement ro be standard \n",
    "from sklearn.preprocessing import StandardScaler\n",
    "scalar=StandardScaler()\n",
    "X_train = scalar.fit_transform(X_train)\n",
    "X_test=scalar.fit_transform(X_test)"
   ]
  },
  {
   "cell_type": "code",
   "execution_count": 9,
   "id": "84723cdf",
   "metadata": {
    "execution": {
     "iopub.execute_input": "2025-10-24T06:33:08.548182Z",
     "iopub.status.busy": "2025-10-24T06:33:08.547833Z",
     "iopub.status.idle": "2025-10-24T06:33:08.553779Z",
     "shell.execute_reply": "2025-10-24T06:33:08.551787Z"
    },
    "papermill": {
     "duration": 0.01284,
     "end_time": "2025-10-24T06:33:08.555575",
     "exception": false,
     "start_time": "2025-10-24T06:33:08.542735",
     "status": "completed"
    },
    "tags": []
   },
   "outputs": [],
   "source": [
    "#initialize the model\n",
    "dt_model = DecisionTreeClassifier(random_state=42)"
   ]
  },
  {
   "cell_type": "code",
   "execution_count": 10,
   "id": "eaa53fa8",
   "metadata": {
    "execution": {
     "iopub.execute_input": "2025-10-24T06:33:08.565332Z",
     "iopub.status.busy": "2025-10-24T06:33:08.564369Z",
     "iopub.status.idle": "2025-10-24T06:33:08.592609Z",
     "shell.execute_reply": "2025-10-24T06:33:08.591313Z"
    },
    "papermill": {
     "duration": 0.034631,
     "end_time": "2025-10-24T06:33:08.594212",
     "exception": false,
     "start_time": "2025-10-24T06:33:08.559581",
     "status": "completed"
    },
    "tags": []
   },
   "outputs": [
    {
     "data": {
      "text/html": [
       "<style>#sk-container-id-1 {color: black;background-color: white;}#sk-container-id-1 pre{padding: 0;}#sk-container-id-1 div.sk-toggleable {background-color: white;}#sk-container-id-1 label.sk-toggleable__label {cursor: pointer;display: block;width: 100%;margin-bottom: 0;padding: 0.3em;box-sizing: border-box;text-align: center;}#sk-container-id-1 label.sk-toggleable__label-arrow:before {content: \"▸\";float: left;margin-right: 0.25em;color: #696969;}#sk-container-id-1 label.sk-toggleable__label-arrow:hover:before {color: black;}#sk-container-id-1 div.sk-estimator:hover label.sk-toggleable__label-arrow:before {color: black;}#sk-container-id-1 div.sk-toggleable__content {max-height: 0;max-width: 0;overflow: hidden;text-align: left;background-color: #f0f8ff;}#sk-container-id-1 div.sk-toggleable__content pre {margin: 0.2em;color: black;border-radius: 0.25em;background-color: #f0f8ff;}#sk-container-id-1 input.sk-toggleable__control:checked~div.sk-toggleable__content {max-height: 200px;max-width: 100%;overflow: auto;}#sk-container-id-1 input.sk-toggleable__control:checked~label.sk-toggleable__label-arrow:before {content: \"▾\";}#sk-container-id-1 div.sk-estimator input.sk-toggleable__control:checked~label.sk-toggleable__label {background-color: #d4ebff;}#sk-container-id-1 div.sk-label input.sk-toggleable__control:checked~label.sk-toggleable__label {background-color: #d4ebff;}#sk-container-id-1 input.sk-hidden--visually {border: 0;clip: rect(1px 1px 1px 1px);clip: rect(1px, 1px, 1px, 1px);height: 1px;margin: -1px;overflow: hidden;padding: 0;position: absolute;width: 1px;}#sk-container-id-1 div.sk-estimator {font-family: monospace;background-color: #f0f8ff;border: 1px dotted black;border-radius: 0.25em;box-sizing: border-box;margin-bottom: 0.5em;}#sk-container-id-1 div.sk-estimator:hover {background-color: #d4ebff;}#sk-container-id-1 div.sk-parallel-item::after {content: \"\";width: 100%;border-bottom: 1px solid gray;flex-grow: 1;}#sk-container-id-1 div.sk-label:hover label.sk-toggleable__label {background-color: #d4ebff;}#sk-container-id-1 div.sk-serial::before {content: \"\";position: absolute;border-left: 1px solid gray;box-sizing: border-box;top: 0;bottom: 0;left: 50%;z-index: 0;}#sk-container-id-1 div.sk-serial {display: flex;flex-direction: column;align-items: center;background-color: white;padding-right: 0.2em;padding-left: 0.2em;position: relative;}#sk-container-id-1 div.sk-item {position: relative;z-index: 1;}#sk-container-id-1 div.sk-parallel {display: flex;align-items: stretch;justify-content: center;background-color: white;position: relative;}#sk-container-id-1 div.sk-item::before, #sk-container-id-1 div.sk-parallel-item::before {content: \"\";position: absolute;border-left: 1px solid gray;box-sizing: border-box;top: 0;bottom: 0;left: 50%;z-index: -1;}#sk-container-id-1 div.sk-parallel-item {display: flex;flex-direction: column;z-index: 1;position: relative;background-color: white;}#sk-container-id-1 div.sk-parallel-item:first-child::after {align-self: flex-end;width: 50%;}#sk-container-id-1 div.sk-parallel-item:last-child::after {align-self: flex-start;width: 50%;}#sk-container-id-1 div.sk-parallel-item:only-child::after {width: 0;}#sk-container-id-1 div.sk-dashed-wrapped {border: 1px dashed gray;margin: 0 0.4em 0.5em 0.4em;box-sizing: border-box;padding-bottom: 0.4em;background-color: white;}#sk-container-id-1 div.sk-label label {font-family: monospace;font-weight: bold;display: inline-block;line-height: 1.2em;}#sk-container-id-1 div.sk-label-container {text-align: center;}#sk-container-id-1 div.sk-container {/* jupyter's `normalize.less` sets `[hidden] { display: none; }` but bootstrap.min.css set `[hidden] { display: none !important; }` so we also need the `!important` here to be able to override the default hidden behavior on the sphinx rendered scikit-learn.org. See: https://github.com/scikit-learn/scikit-learn/issues/21755 */display: inline-block !important;position: relative;}#sk-container-id-1 div.sk-text-repr-fallback {display: none;}</style><div id=\"sk-container-id-1\" class=\"sk-top-container\"><div class=\"sk-text-repr-fallback\"><pre>DecisionTreeClassifier(random_state=42)</pre><b>In a Jupyter environment, please rerun this cell to show the HTML representation or trust the notebook. <br />On GitHub, the HTML representation is unable to render, please try loading this page with nbviewer.org.</b></div><div class=\"sk-container\" hidden><div class=\"sk-item\"><div class=\"sk-estimator sk-toggleable\"><input class=\"sk-toggleable__control sk-hidden--visually\" id=\"sk-estimator-id-1\" type=\"checkbox\" checked><label for=\"sk-estimator-id-1\" class=\"sk-toggleable__label sk-toggleable__label-arrow\">DecisionTreeClassifier</label><div class=\"sk-toggleable__content\"><pre>DecisionTreeClassifier(random_state=42)</pre></div></div></div></div></div>"
      ],
      "text/plain": [
       "DecisionTreeClassifier(random_state=42)"
      ]
     },
     "execution_count": 10,
     "metadata": {},
     "output_type": "execute_result"
    }
   ],
   "source": [
    "# Train the model\n",
    "dt_model.fit(X_train,y_train)"
   ]
  },
  {
   "cell_type": "code",
   "execution_count": 11,
   "id": "dfa684a7",
   "metadata": {
    "execution": {
     "iopub.execute_input": "2025-10-24T06:33:08.604841Z",
     "iopub.status.busy": "2025-10-24T06:33:08.604077Z",
     "iopub.status.idle": "2025-10-24T06:33:08.609177Z",
     "shell.execute_reply": "2025-10-24T06:33:08.608185Z"
    },
    "papermill": {
     "duration": 0.01223,
     "end_time": "2025-10-24T06:33:08.611158",
     "exception": false,
     "start_time": "2025-10-24T06:33:08.598928",
     "status": "completed"
    },
    "tags": []
   },
   "outputs": [],
   "source": [
    "#predict\n",
    "y_pred=dt_model.predict(X_test)"
   ]
  },
  {
   "cell_type": "code",
   "execution_count": 12,
   "id": "429302bd",
   "metadata": {
    "execution": {
     "iopub.execute_input": "2025-10-24T06:33:08.621296Z",
     "iopub.status.busy": "2025-10-24T06:33:08.620963Z",
     "iopub.status.idle": "2025-10-24T06:33:08.627901Z",
     "shell.execute_reply": "2025-10-24T06:33:08.626946Z"
    },
    "papermill": {
     "duration": 0.013817,
     "end_time": "2025-10-24T06:33:08.629410",
     "exception": false,
     "start_time": "2025-10-24T06:33:08.615593",
     "status": "completed"
    },
    "tags": []
   },
   "outputs": [
    {
     "name": "stdout",
     "output_type": "stream",
     "text": [
      "Accuracy:  0.9210526315789473\n"
     ]
    }
   ],
   "source": [
    "#calculate the accuracy\n",
    "print(\"Accuracy: \",accuracy_score(y_pred,y_test))"
   ]
  },
  {
   "cell_type": "markdown",
   "id": "48bdc783",
   "metadata": {
    "papermill": {
     "duration": 0.004135,
     "end_time": "2025-10-24T06:33:08.637826",
     "exception": false,
     "start_time": "2025-10-24T06:33:08.633691",
     "status": "completed"
    },
    "tags": []
   },
   "source": [
    "Conclusion:\n",
    "In this project, I developed a machine learning model to predict whether a breast tumor is malignant or benign using the Breast Cancer Wisconsin dataset. After cleaning and standardizing the data, we trained a Decision Tree Classifier.The model achieved an accuracy of approximately 0.9473684210526315, showing strong predictive performance. This indicates that the features provided (such as radius, texture, and area) are highly effective in distinguishing between malignant and benign tumors.Such models can support medical professionals by providing an early, data-driven indication of potential breast cancer cases, improving the speed and accuracy of diagnosis."
   ]
  },
  {
   "cell_type": "code",
   "execution_count": null,
   "id": "ca4ff1d5",
   "metadata": {
    "papermill": {
     "duration": 0.003877,
     "end_time": "2025-10-24T06:33:08.646766",
     "exception": false,
     "start_time": "2025-10-24T06:33:08.642889",
     "status": "completed"
    },
    "tags": []
   },
   "outputs": [],
   "source": []
  }
 ],
 "metadata": {
  "kaggle": {
   "accelerator": "none",
   "dataSources": [
    {
     "datasetId": 180,
     "sourceId": 408,
     "sourceType": "datasetVersion"
    }
   ],
   "dockerImageVersionId": 31153,
   "isGpuEnabled": false,
   "isInternetEnabled": true,
   "language": "python",
   "sourceType": "notebook"
  },
  "kernelspec": {
   "display_name": "Python 3",
   "language": "python",
   "name": "python3"
  },
  "language_info": {
   "codemirror_mode": {
    "name": "ipython",
    "version": 3
   },
   "file_extension": ".py",
   "mimetype": "text/x-python",
   "name": "python",
   "nbconvert_exporter": "python",
   "pygments_lexer": "ipython3",
   "version": "3.11.13"
  },
  "papermill": {
   "default_parameters": {},
   "duration": 11.248345,
   "end_time": "2025-10-24T06:33:09.272153",
   "environment_variables": {},
   "exception": null,
   "input_path": "__notebook__.ipynb",
   "output_path": "__notebook__.ipynb",
   "parameters": {},
   "start_time": "2025-10-24T06:32:58.023808",
   "version": "2.6.0"
  }
 },
 "nbformat": 4,
 "nbformat_minor": 5
}
